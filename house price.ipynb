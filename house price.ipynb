{
 "cells": [
  {
   "cell_type": "code",
   "execution_count": 1,
   "metadata": {},
   "outputs": [
    {
     "name": "stderr",
     "output_type": "stream",
     "text": [
      "D:\\program Data\\anaconda\\lib\\site-packages\\statsmodels\\tools\\_testing.py:19: FutureWarning: pandas.util.testing is deprecated. Use the functions in the public API at pandas.testing instead.\n",
      "  import pandas.util.testing as tm\n"
     ]
    }
   ],
   "source": [
    "import warnings\n",
    "import pandas as pd\n",
    "import pandas_profiling\n",
    "import numpy as np\n",
    "import seaborn as sns\n",
    "from scipy import stats\n",
    "from scipy.stats import skew\n",
    "from scipy.stats import norm\n",
    "import matplotlib\n",
    "import matplotlib.pyplot as plt\n",
    "warnings.filterwarnings('ignore')"
   ]
  },
  {
   "cell_type": "markdown",
   "metadata": {},
   "source": [
    "# 数据基本情况"
   ]
  },
  {
   "cell_type": "code",
   "execution_count": 2,
   "metadata": {},
   "outputs": [
    {
     "data": {
      "application/vnd.jupyter.widget-view+json": {
       "model_id": "63628307d2ec46c09688710b8b2db9b5",
       "version_major": 2,
       "version_minor": 0
      },
      "text/plain": [
       "HBox(children=(FloatProgress(value=0.0, description='Summarize dataset', max=95.0, style=ProgressStyle(descrip…"
      ]
     },
     "metadata": {},
     "output_type": "display_data"
    },
    {
     "name": "stdout",
     "output_type": "stream",
     "text": [
      "\n"
     ]
    },
    {
     "data": {
      "application/vnd.jupyter.widget-view+json": {
       "model_id": "4cd179a0301144a5ad1b91f6b7702530",
       "version_major": 2,
       "version_minor": 0
      },
      "text/plain": [
       "HBox(children=(FloatProgress(value=0.0, description='Generate report structure', max=1.0, style=ProgressStyle(…"
      ]
     },
     "metadata": {},
     "output_type": "display_data"
    },
    {
     "name": "stdout",
     "output_type": "stream",
     "text": [
      "\n"
     ]
    },
    {
     "data": {
      "application/vnd.jupyter.widget-view+json": {
       "model_id": "7990be739fcb4510aa89ecc0dd0bb348",
       "version_major": 2,
       "version_minor": 0
      },
      "text/plain": [
       "HBox(children=(FloatProgress(value=0.0, description='Render HTML', max=1.0, style=ProgressStyle(description_wi…"
      ]
     },
     "metadata": {},
     "output_type": "display_data"
    },
    {
     "name": "stdout",
     "output_type": "stream",
     "text": [
      "\n"
     ]
    },
    {
     "data": {
      "application/vnd.jupyter.widget-view+json": {
       "model_id": "a4bde3f509814a04bb68d8a964b2bd04",
       "version_major": 2,
       "version_minor": 0
      },
      "text/plain": [
       "HBox(children=(FloatProgress(value=0.0, description='Export report to file', max=1.0, style=ProgressStyle(desc…"
      ]
     },
     "metadata": {},
     "output_type": "display_data"
    },
    {
     "name": "stdout",
     "output_type": "stream",
     "text": [
      "\n"
     ]
    },
    {
     "data": {
      "text/html": [
       "<div>\n",
       "<style scoped>\n",
       "    .dataframe tbody tr th:only-of-type {\n",
       "        vertical-align: middle;\n",
       "    }\n",
       "\n",
       "    .dataframe tbody tr th {\n",
       "        vertical-align: top;\n",
       "    }\n",
       "\n",
       "    .dataframe thead th {\n",
       "        text-align: right;\n",
       "    }\n",
       "</style>\n",
       "<table border=\"1\" class=\"dataframe\">\n",
       "  <thead>\n",
       "    <tr style=\"text-align: right;\">\n",
       "      <th></th>\n",
       "      <th>Id</th>\n",
       "      <th>MSSubClass</th>\n",
       "      <th>MSZoning</th>\n",
       "      <th>LotFrontage</th>\n",
       "      <th>LotArea</th>\n",
       "      <th>Street</th>\n",
       "      <th>Alley</th>\n",
       "      <th>LotShape</th>\n",
       "      <th>LandContour</th>\n",
       "      <th>Utilities</th>\n",
       "      <th>...</th>\n",
       "      <th>PoolArea</th>\n",
       "      <th>PoolQC</th>\n",
       "      <th>Fence</th>\n",
       "      <th>MiscFeature</th>\n",
       "      <th>MiscVal</th>\n",
       "      <th>MoSold</th>\n",
       "      <th>YrSold</th>\n",
       "      <th>SaleType</th>\n",
       "      <th>SaleCondition</th>\n",
       "      <th>SalePrice</th>\n",
       "    </tr>\n",
       "  </thead>\n",
       "  <tbody>\n",
       "    <tr>\n",
       "      <th>0</th>\n",
       "      <td>1</td>\n",
       "      <td>60</td>\n",
       "      <td>RL</td>\n",
       "      <td>65.0</td>\n",
       "      <td>8450</td>\n",
       "      <td>Pave</td>\n",
       "      <td>NaN</td>\n",
       "      <td>Reg</td>\n",
       "      <td>Lvl</td>\n",
       "      <td>AllPub</td>\n",
       "      <td>...</td>\n",
       "      <td>0</td>\n",
       "      <td>NaN</td>\n",
       "      <td>NaN</td>\n",
       "      <td>NaN</td>\n",
       "      <td>0</td>\n",
       "      <td>2</td>\n",
       "      <td>2008</td>\n",
       "      <td>WD</td>\n",
       "      <td>Normal</td>\n",
       "      <td>208500</td>\n",
       "    </tr>\n",
       "    <tr>\n",
       "      <th>1</th>\n",
       "      <td>2</td>\n",
       "      <td>20</td>\n",
       "      <td>RL</td>\n",
       "      <td>80.0</td>\n",
       "      <td>9600</td>\n",
       "      <td>Pave</td>\n",
       "      <td>NaN</td>\n",
       "      <td>Reg</td>\n",
       "      <td>Lvl</td>\n",
       "      <td>AllPub</td>\n",
       "      <td>...</td>\n",
       "      <td>0</td>\n",
       "      <td>NaN</td>\n",
       "      <td>NaN</td>\n",
       "      <td>NaN</td>\n",
       "      <td>0</td>\n",
       "      <td>5</td>\n",
       "      <td>2007</td>\n",
       "      <td>WD</td>\n",
       "      <td>Normal</td>\n",
       "      <td>181500</td>\n",
       "    </tr>\n",
       "    <tr>\n",
       "      <th>2</th>\n",
       "      <td>3</td>\n",
       "      <td>60</td>\n",
       "      <td>RL</td>\n",
       "      <td>68.0</td>\n",
       "      <td>11250</td>\n",
       "      <td>Pave</td>\n",
       "      <td>NaN</td>\n",
       "      <td>IR1</td>\n",
       "      <td>Lvl</td>\n",
       "      <td>AllPub</td>\n",
       "      <td>...</td>\n",
       "      <td>0</td>\n",
       "      <td>NaN</td>\n",
       "      <td>NaN</td>\n",
       "      <td>NaN</td>\n",
       "      <td>0</td>\n",
       "      <td>9</td>\n",
       "      <td>2008</td>\n",
       "      <td>WD</td>\n",
       "      <td>Normal</td>\n",
       "      <td>223500</td>\n",
       "    </tr>\n",
       "    <tr>\n",
       "      <th>3</th>\n",
       "      <td>4</td>\n",
       "      <td>70</td>\n",
       "      <td>RL</td>\n",
       "      <td>60.0</td>\n",
       "      <td>9550</td>\n",
       "      <td>Pave</td>\n",
       "      <td>NaN</td>\n",
       "      <td>IR1</td>\n",
       "      <td>Lvl</td>\n",
       "      <td>AllPub</td>\n",
       "      <td>...</td>\n",
       "      <td>0</td>\n",
       "      <td>NaN</td>\n",
       "      <td>NaN</td>\n",
       "      <td>NaN</td>\n",
       "      <td>0</td>\n",
       "      <td>2</td>\n",
       "      <td>2006</td>\n",
       "      <td>WD</td>\n",
       "      <td>Abnorml</td>\n",
       "      <td>140000</td>\n",
       "    </tr>\n",
       "    <tr>\n",
       "      <th>4</th>\n",
       "      <td>5</td>\n",
       "      <td>60</td>\n",
       "      <td>RL</td>\n",
       "      <td>84.0</td>\n",
       "      <td>14260</td>\n",
       "      <td>Pave</td>\n",
       "      <td>NaN</td>\n",
       "      <td>IR1</td>\n",
       "      <td>Lvl</td>\n",
       "      <td>AllPub</td>\n",
       "      <td>...</td>\n",
       "      <td>0</td>\n",
       "      <td>NaN</td>\n",
       "      <td>NaN</td>\n",
       "      <td>NaN</td>\n",
       "      <td>0</td>\n",
       "      <td>12</td>\n",
       "      <td>2008</td>\n",
       "      <td>WD</td>\n",
       "      <td>Normal</td>\n",
       "      <td>250000</td>\n",
       "    </tr>\n",
       "    <tr>\n",
       "      <th>...</th>\n",
       "      <td>...</td>\n",
       "      <td>...</td>\n",
       "      <td>...</td>\n",
       "      <td>...</td>\n",
       "      <td>...</td>\n",
       "      <td>...</td>\n",
       "      <td>...</td>\n",
       "      <td>...</td>\n",
       "      <td>...</td>\n",
       "      <td>...</td>\n",
       "      <td>...</td>\n",
       "      <td>...</td>\n",
       "      <td>...</td>\n",
       "      <td>...</td>\n",
       "      <td>...</td>\n",
       "      <td>...</td>\n",
       "      <td>...</td>\n",
       "      <td>...</td>\n",
       "      <td>...</td>\n",
       "      <td>...</td>\n",
       "      <td>...</td>\n",
       "    </tr>\n",
       "    <tr>\n",
       "      <th>1455</th>\n",
       "      <td>1456</td>\n",
       "      <td>60</td>\n",
       "      <td>RL</td>\n",
       "      <td>62.0</td>\n",
       "      <td>7917</td>\n",
       "      <td>Pave</td>\n",
       "      <td>NaN</td>\n",
       "      <td>Reg</td>\n",
       "      <td>Lvl</td>\n",
       "      <td>AllPub</td>\n",
       "      <td>...</td>\n",
       "      <td>0</td>\n",
       "      <td>NaN</td>\n",
       "      <td>NaN</td>\n",
       "      <td>NaN</td>\n",
       "      <td>0</td>\n",
       "      <td>8</td>\n",
       "      <td>2007</td>\n",
       "      <td>WD</td>\n",
       "      <td>Normal</td>\n",
       "      <td>175000</td>\n",
       "    </tr>\n",
       "    <tr>\n",
       "      <th>1456</th>\n",
       "      <td>1457</td>\n",
       "      <td>20</td>\n",
       "      <td>RL</td>\n",
       "      <td>85.0</td>\n",
       "      <td>13175</td>\n",
       "      <td>Pave</td>\n",
       "      <td>NaN</td>\n",
       "      <td>Reg</td>\n",
       "      <td>Lvl</td>\n",
       "      <td>AllPub</td>\n",
       "      <td>...</td>\n",
       "      <td>0</td>\n",
       "      <td>NaN</td>\n",
       "      <td>MnPrv</td>\n",
       "      <td>NaN</td>\n",
       "      <td>0</td>\n",
       "      <td>2</td>\n",
       "      <td>2010</td>\n",
       "      <td>WD</td>\n",
       "      <td>Normal</td>\n",
       "      <td>210000</td>\n",
       "    </tr>\n",
       "    <tr>\n",
       "      <th>1457</th>\n",
       "      <td>1458</td>\n",
       "      <td>70</td>\n",
       "      <td>RL</td>\n",
       "      <td>66.0</td>\n",
       "      <td>9042</td>\n",
       "      <td>Pave</td>\n",
       "      <td>NaN</td>\n",
       "      <td>Reg</td>\n",
       "      <td>Lvl</td>\n",
       "      <td>AllPub</td>\n",
       "      <td>...</td>\n",
       "      <td>0</td>\n",
       "      <td>NaN</td>\n",
       "      <td>GdPrv</td>\n",
       "      <td>Shed</td>\n",
       "      <td>2500</td>\n",
       "      <td>5</td>\n",
       "      <td>2010</td>\n",
       "      <td>WD</td>\n",
       "      <td>Normal</td>\n",
       "      <td>266500</td>\n",
       "    </tr>\n",
       "    <tr>\n",
       "      <th>1458</th>\n",
       "      <td>1459</td>\n",
       "      <td>20</td>\n",
       "      <td>RL</td>\n",
       "      <td>68.0</td>\n",
       "      <td>9717</td>\n",
       "      <td>Pave</td>\n",
       "      <td>NaN</td>\n",
       "      <td>Reg</td>\n",
       "      <td>Lvl</td>\n",
       "      <td>AllPub</td>\n",
       "      <td>...</td>\n",
       "      <td>0</td>\n",
       "      <td>NaN</td>\n",
       "      <td>NaN</td>\n",
       "      <td>NaN</td>\n",
       "      <td>0</td>\n",
       "      <td>4</td>\n",
       "      <td>2010</td>\n",
       "      <td>WD</td>\n",
       "      <td>Normal</td>\n",
       "      <td>142125</td>\n",
       "    </tr>\n",
       "    <tr>\n",
       "      <th>1459</th>\n",
       "      <td>1460</td>\n",
       "      <td>20</td>\n",
       "      <td>RL</td>\n",
       "      <td>75.0</td>\n",
       "      <td>9937</td>\n",
       "      <td>Pave</td>\n",
       "      <td>NaN</td>\n",
       "      <td>Reg</td>\n",
       "      <td>Lvl</td>\n",
       "      <td>AllPub</td>\n",
       "      <td>...</td>\n",
       "      <td>0</td>\n",
       "      <td>NaN</td>\n",
       "      <td>NaN</td>\n",
       "      <td>NaN</td>\n",
       "      <td>0</td>\n",
       "      <td>6</td>\n",
       "      <td>2008</td>\n",
       "      <td>WD</td>\n",
       "      <td>Normal</td>\n",
       "      <td>147500</td>\n",
       "    </tr>\n",
       "  </tbody>\n",
       "</table>\n",
       "<p>1460 rows × 81 columns</p>\n",
       "</div>"
      ],
      "text/plain": [
       "        Id  MSSubClass MSZoning  LotFrontage  LotArea Street Alley LotShape  \\\n",
       "0        1          60       RL         65.0     8450   Pave   NaN      Reg   \n",
       "1        2          20       RL         80.0     9600   Pave   NaN      Reg   \n",
       "2        3          60       RL         68.0    11250   Pave   NaN      IR1   \n",
       "3        4          70       RL         60.0     9550   Pave   NaN      IR1   \n",
       "4        5          60       RL         84.0    14260   Pave   NaN      IR1   \n",
       "...    ...         ...      ...          ...      ...    ...   ...      ...   \n",
       "1455  1456          60       RL         62.0     7917   Pave   NaN      Reg   \n",
       "1456  1457          20       RL         85.0    13175   Pave   NaN      Reg   \n",
       "1457  1458          70       RL         66.0     9042   Pave   NaN      Reg   \n",
       "1458  1459          20       RL         68.0     9717   Pave   NaN      Reg   \n",
       "1459  1460          20       RL         75.0     9937   Pave   NaN      Reg   \n",
       "\n",
       "     LandContour Utilities  ... PoolArea PoolQC  Fence MiscFeature MiscVal  \\\n",
       "0            Lvl    AllPub  ...        0    NaN    NaN         NaN       0   \n",
       "1            Lvl    AllPub  ...        0    NaN    NaN         NaN       0   \n",
       "2            Lvl    AllPub  ...        0    NaN    NaN         NaN       0   \n",
       "3            Lvl    AllPub  ...        0    NaN    NaN         NaN       0   \n",
       "4            Lvl    AllPub  ...        0    NaN    NaN         NaN       0   \n",
       "...          ...       ...  ...      ...    ...    ...         ...     ...   \n",
       "1455         Lvl    AllPub  ...        0    NaN    NaN         NaN       0   \n",
       "1456         Lvl    AllPub  ...        0    NaN  MnPrv         NaN       0   \n",
       "1457         Lvl    AllPub  ...        0    NaN  GdPrv        Shed    2500   \n",
       "1458         Lvl    AllPub  ...        0    NaN    NaN         NaN       0   \n",
       "1459         Lvl    AllPub  ...        0    NaN    NaN         NaN       0   \n",
       "\n",
       "     MoSold YrSold  SaleType  SaleCondition  SalePrice  \n",
       "0         2   2008        WD         Normal     208500  \n",
       "1         5   2007        WD         Normal     181500  \n",
       "2         9   2008        WD         Normal     223500  \n",
       "3         2   2006        WD        Abnorml     140000  \n",
       "4        12   2008        WD         Normal     250000  \n",
       "...     ...    ...       ...            ...        ...  \n",
       "1455      8   2007        WD         Normal     175000  \n",
       "1456      2   2010        WD         Normal     210000  \n",
       "1457      5   2010        WD         Normal     266500  \n",
       "1458      4   2010        WD         Normal     142125  \n",
       "1459      6   2008        WD         Normal     147500  \n",
       "\n",
       "[1460 rows x 81 columns]"
      ]
     },
     "execution_count": 2,
     "metadata": {},
     "output_type": "execute_result"
    }
   ],
   "source": [
    "# 导入数据  观察数据\n",
    "train_data = pd.read_csv('train.csv')\n",
    "test_data = pd.read_csv('test.csv')\n",
    "\n",
    "#固定模块可视化数值间的关系\n",
    "pandas_profiling.ProfileReport(train_data).to_file('./example.html')\n",
    "train_data"
   ]
  },
  {
   "cell_type": "markdown",
   "metadata": {},
   "source": [
    "### 正态化目标值"
   ]
  },
  {
   "cell_type": "markdown",
   "metadata": {},
   "source": [
    "SalePrice是最后预测的数据"
   ]
  },
  {
   "cell_type": "code",
   "execution_count": 3,
   "metadata": {},
   "outputs": [
    {
     "data": {
      "text/plain": [
       "1.8828757597682129"
      ]
     },
     "execution_count": 3,
     "metadata": {},
     "output_type": "execute_result"
    }
   ],
   "source": [
    "train_data['SalePrice'].skew()"
   ]
  },
  {
   "cell_type": "markdown",
   "metadata": {},
   "source": [
    "之前房价的偏度是1.88，很多模型的隐含假设都是normal，一般归一化后效果比较理想，所以这里正态化"
   ]
  },
  {
   "cell_type": "code",
   "execution_count": 4,
   "metadata": {},
   "outputs": [
    {
     "data": {
      "text/plain": [
       "<matplotlib.legend.Legend at 0x21cd7abff08>"
      ]
     },
     "execution_count": 4,
     "metadata": {},
     "output_type": "execute_result"
    },
    {
     "data": {
      "image/png": "[encoded data removed]",
      "text/plain": [
       "<Figure size 432x288 with 1 Axes>"
      ]
     },
     "metadata": {
      "needs_background": "light"
     },
     "output_type": "display_data"
    }
   ],
   "source": [
    "# log正态\n",
    "train_data['SalePrice'] = np.log(train_data['SalePrice'])\n",
    "\n",
    "sns.distplot(train_data['SalePrice'][train_data['SalePrice'].notnull()],\n",
    "             label='skewness:%.2f' % (train_data['SalePrice'].skew())).legend(loc='best')"
   ]
  },
  {
   "cell_type": "markdown",
   "metadata": {},
   "source": [
    "# 1、数据清洗"
   ]
  },
  {
   "cell_type": "markdown",
   "metadata": {},
   "source": [
    "对合并前的train数据集进行异常值处理"
   ]
  },
  {
   "cell_type": "code",
   "execution_count": 5,
   "metadata": {},
   "outputs": [
    {
     "data": {
      "image/png": "[encoded data removed]",
      "text/plain": [
       "<Figure size 720x180 with 4 Axes>"
      ]
     },
     "metadata": {
      "needs_background": "light"
     },
     "output_type": "display_data"
    }
   ],
   "source": [
    "# 装修质量，居住面积，建造年限，地下室面积与售价关系\n",
    "sns.pairplot(x_vars=['OverallQual', 'GrLivArea', 'YearBuilt', 'TotalBsmtSF'], y_vars=['SalePrice'], data=train_data,\n",
    "             dropna=True)\n",
    "# 去除离群点，异常点\n",
    "train_data.drop(train_data[(train_data['OverallQual'] < 5) & (train_data['SalePrice'] > 200000)].index, inplace=True)\n",
    "train_data.drop(train_data[(train_data['GrLivArea'] > 4000) & (train_data['SalePrice'] < 300000)].index, inplace=True)\n",
    "train_data.reset_index(drop=True, inplace=True)  # 引索重制"
   ]
  },
  {
   "cell_type": "markdown",
   "metadata": {},
   "source": [
    "合并训练数据、测试数据"
   ]
  },
  {
   "cell_type": "code",
   "execution_count": 8,
   "metadata": {},
   "outputs": [
    {
     "data": {
      "text/plain": [
       "(2915, 79)"
      ]
     },
     "execution_count": 8,
     "metadata": {},
     "output_type": "execute_result"
    }
   ],
   "source": [
    "df = train_data.append(test_data, ignore_index=True)\n",
    "## 删除Id,SalePrice列\n",
    "df.drop(['Id'], axis=1, inplace=True)\n",
    "df.drop(['SalePrice'], axis=1, inplace=True)\n",
    "df.shape"
   ]
  },
  {
   "cell_type": "markdown",
   "metadata": {},
   "source": [
    "缺失值处理"
   ]
  },
  {
   "cell_type": "code",
   "execution_count": 9,
   "metadata": {},
   "outputs": [
    {
     "data": {
      "text/plain": [
       "PoolQC         2907\n",
       "MiscFeature    2810\n",
       "Alley          2717\n",
       "Fence          2345\n",
       "FireplaceQu    1420\n",
       "               ... \n",
       "1stFlrSF          0\n",
       "CentralAir        0\n",
       "Heating           0\n",
       "Foundation        0\n",
       "MSSubClass        0\n",
       "Length: 79, dtype: int64"
      ]
     },
     "execution_count": 9,
     "metadata": {},
     "output_type": "execute_result"
    }
   ],
   "source": [
    "# 查看缺失值\n",
    "df.isnull().sum().sort_values(ascending=False)"
   ]
  },
  {
   "cell_type": "code",
   "execution_count": 10,
   "metadata": {},
   "outputs": [
    {
     "name": "stdout",
     "output_type": "stream",
     "text": [
      "<class 'pandas.core.frame.DataFrame'>\n",
      "RangeIndex: 2915 entries, 0 to 2914\n",
      "Data columns (total 79 columns):\n",
      " #   Column         Non-Null Count  Dtype  \n",
      "---  ------         --------------  -----  \n",
      " 0   MSSubClass     2915 non-null   int64  \n",
      " 1   MSZoning       2915 non-null   object \n",
      " 2   LotFrontage    2915 non-null   float64\n",
      " 3   LotArea        2915 non-null   int64  \n",
      " 4   Street         2915 non-null   object \n",
      " 5   Alley          2915 non-null   object \n",
      " 6   LotShape       2915 non-null   object \n",
      " 7   LandContour    2915 non-null   object \n",
      " 8   Utilities      2915 non-null   object \n",
      " 9   LotConfig      2915 non-null   object \n",
      " 10  LandSlope      2915 non-null   object \n",
      " 11  Neighborhood   2915 non-null   object \n",
      " 12  Condition1     2915 non-null   object \n",
      " 13  Condition2     2915 non-null   object \n",
      " 14  BldgType       2915 non-null   object \n",
      " 15  HouseStyle     2915 non-null   object \n",
      " 16  OverallQual    2915 non-null   int64  \n",
      " 17  OverallCond    2915 non-null   int64  \n",
      " 18  YearBuilt      2915 non-null   int64  \n",
      " 19  YearRemodAdd   2915 non-null   int64  \n",
      " 20  RoofStyle      2915 non-null   object \n",
      " 21  RoofMatl       2915 non-null   object \n",
      " 22  Exterior1st    2915 non-null   object \n",
      " 23  Exterior2nd    2915 non-null   object \n",
      " 24  MasVnrType     2915 non-null   object \n",
      " 25  MasVnrArea     2915 non-null   float64\n",
      " 26  ExterQual      2915 non-null   object \n",
      " 27  ExterCond      2915 non-null   object \n",
      " 28  Foundation     2915 non-null   object \n",
      " 29  BsmtQual       2915 non-null   object \n",
      " 30  BsmtCond       2915 non-null   object \n",
      " 31  BsmtExposure   2915 non-null   object \n",
      " 32  BsmtFinType1   2915 non-null   object \n",
      " 33  BsmtFinSF1     2915 non-null   float64\n",
      " 34  BsmtFinType2   2915 non-null   object \n",
      " 35  BsmtFinSF2     2915 non-null   float64\n",
      " 36  BsmtUnfSF      2915 non-null   float64\n",
      " 37  TotalBsmtSF    2915 non-null   float64\n",
      " 38  Heating        2915 non-null   object \n",
      " 39  HeatingQC      2915 non-null   object \n",
      " 40  CentralAir     2915 non-null   object \n",
      " 41  Electrical     2915 non-null   object \n",
      " 42  1stFlrSF       2915 non-null   int64  \n",
      " 43  2ndFlrSF       2915 non-null   int64  \n",
      " 44  LowQualFinSF   2915 non-null   int64  \n",
      " 45  GrLivArea      2915 non-null   int64  \n",
      " 46  BsmtFullBath   2915 non-null   float64\n",
      " 47  BsmtHalfBath   2915 non-null   float64\n",
      " 48  FullBath       2915 non-null   int64  \n",
      " 49  HalfBath       2915 non-null   int64  \n",
      " 50  BedroomAbvGr   2915 non-null   int64  \n",
      " 51  KitchenAbvGr   2915 non-null   int64  \n",
      " 52  KitchenQual    2915 non-null   object \n",
      " 53  TotRmsAbvGrd   2915 non-null   int64  \n",
      " 54  Functional     2915 non-null   object \n",
      " 55  Fireplaces     2915 non-null   int64  \n",
      " 56  FireplaceQu    2915 non-null   object \n",
      " 57  GarageType     2915 non-null   object \n",
      " 58  GarageYrBlt    2915 non-null   object \n",
      " 59  GarageFinish   2915 non-null   object \n",
      " 60  GarageCars     2915 non-null   float64\n",
      " 61  GarageArea     2915 non-null   float64\n",
      " 62  GarageQual     2915 non-null   object \n",
      " 63  GarageCond     2915 non-null   object \n",
      " 64  PavedDrive     2915 non-null   object \n",
      " 65  WoodDeckSF     2915 non-null   int64  \n",
      " 66  OpenPorchSF    2915 non-null   int64  \n",
      " 67  EnclosedPorch  2915 non-null   int64  \n",
      " 68  3SsnPorch      2915 non-null   int64  \n",
      " 69  ScreenPorch    2915 non-null   int64  \n",
      " 70  PoolArea       2915 non-null   int64  \n",
      " 71  PoolQC         2915 non-null   object \n",
      " 72  Fence          2915 non-null   object \n",
      " 73  MiscFeature    2915 non-null   object \n",
      " 74  MiscVal        2915 non-null   int64  \n",
      " 75  MoSold         2915 non-null   int64  \n",
      " 76  YrSold         2915 non-null   int64  \n",
      " 77  SaleType       2915 non-null   object \n",
      " 78  SaleCondition  2915 non-null   object \n",
      "dtypes: float64(10), int64(25), object(44)\n",
      "memory usage: 1.8+ MB\n"
     ]
    }
   ],
   "source": [
    "# 影响较小且缺失数量多的，None填充\n",
    "cols1 = ['PoolQC', 'MiscFeature', 'Alley', 'Fence', 'FireplaceQu', 'GarageQual', 'GarageCond', 'GarageFinish',\n",
    "         'GarageYrBlt', 'GarageType', 'BsmtExposure', 'BsmtCond', 'BsmtQual', 'BsmtFinType2', 'BsmtFinType1',\n",
    "         'MasVnrType']\n",
    "for col in cols1:\n",
    "    df[col].fillna('None', inplace=True)\n",
    "# 房屋无配置物品，用0填充\n",
    "cols2 = ['BsmtUnfSF', 'TotalBsmtSF', 'BsmtFinSF2', 'BsmtFinSF1', 'BsmtFullBath', 'BsmtHalfBath', \\\n",
    "         'MasVnrArea', 'GarageCars', 'GarageArea', 'GarageYrBlt']\n",
    "for col in cols2:\n",
    "    df[col].fillna(0, inplace=True)\n",
    "# 缺失值的数量较少，用众数填充\n",
    "cols3 = ['MSZoning', 'BsmtFullBath', 'BsmtHalfBath', 'Utilities', 'Functional', 'Electrical', 'KitchenQual', 'SaleType',\n",
    "         'Exterior1st', 'Exterior2nd']\n",
    "for col in cols3:\n",
    "    df[col].fillna(df[col].mode()[0], inplace=True)\n",
    "    \n",
    "# 根据地皮面积LotArea和市区位置Neighborhood的中位数来估算到街道距离LotFrontage的缺失值。\n",
    "df['LotAreaCut'] = pd.qcut(df.LotArea, 10)  ## 由于LotArea是连续的数据，因此将(1299.999,215245.0]分为10个部分。\n",
    "\n",
    "df.groupby('Neighborhood')[['LotFrontage']].agg(['mean', 'median', 'count'])\n",
    "df.groupby('LotAreaCut')[['LotFrontage']].agg(['mean', 'median', 'count'])\n",
    "\n",
    "df['LotFrontage'] = df.groupby(['LotAreaCut', 'Neighborhood'])['LotFrontage'].transform(lambda x: x.fillna(x.median()))\n",
    "df['LotFrontage'] = df.groupby(['LotAreaCut'])['LotFrontage'].transform(lambda x: x.fillna(x.median()))\n",
    "df.drop(['LotAreaCut'], axis=1, inplace=True)\n",
    "# 统计是否还有缺失值\n",
    "df.isnull().sum().sort_values()\n",
    "df.info()\n",
    "del col,cols1,cols2,cols3"
   ]
  },
  {
   "cell_type": "markdown",
   "metadata": {},
   "source": [
    "# 2、特征工程"
   ]
  },
  {
   "cell_type": "markdown",
   "metadata": {},
   "source": [
    "## 2.1对值进行编码"
   ]
  },
  {
   "cell_type": "markdown",
   "metadata": {},
   "source": [
    "进行编码之后特征变成了91个"
   ]
  },
  {
   "cell_type": "code",
   "execution_count": 11,
   "metadata": {},
   "outputs": [],
   "source": [
    "from sklearn.base import BaseEstimator, TransformerMixin, RegressorMixin, clone\n",
    "from sklearn.preprocessing import LabelEncoder  # 标签编码\n",
    "from sklearn.preprocessing import RobustScaler, StandardScaler  # 缩放异常值与数据标准化\n",
    "from scipy.stats import skew  # 偏度\n",
    "from sklearn.linear_model import Lasso  # 分类关系排行\n",
    "from sklearn.decomposition import PCA, KernelPCA\n",
    "\n",
    "#观察数据，部分数字并没有顺序关系，仅仅只是个标签，将这部分数据转换为字符\n",
    "\n",
    "# 离散型数据，转换为字符\n",
    "NumtoStr = ['MSSubClass', 'BsmtFullBath', 'BsmtHalfBath', 'HalfBath', 'BedroomAbvGr', 'KitchenAbvGr', 'MoSold', 'YrSold', 'YearBuilt', 'YearRemodAdd', 'LowQualFinSF', 'GarageYrBlt']\n",
    "for col in NumtoStr:\n",
    "    df[col] = df[col].astype(str)\n",
    "\n",
    "# 年份编码\n",
    "str_cols = ['YearBuilt', 'YearRemodAdd', 'GarageYrBlt', \"YrSold\", 'MoSold']\n",
    "for col in str_cols:\n",
    "    df[col] = LabelEncoder().fit_transform(df[col])\n"
   ]
  },
  {
   "cell_type": "code",
   "execution_count": 12,
   "metadata": {},
   "outputs": [],
   "source": [
    "#对明确有顺序、大小之分的值进行编码\n",
    "def order_coding(x):\n",
    "    order = ['Po', 'None', 'Fa', 'TA', 'Gd', 'Ex']\n",
    "    keys = list(set(x))\n",
    "    order_key = []\n",
    "    for i in order:\n",
    "        for j in keys:\n",
    "            if j.find(i) > -1:\n",
    "                order_key.append(j)\n",
    "    what = dict(zip(order_key, range(1, 7)))\n",
    "    return x.map(what)\n",
    "\n",
    "cols = ['BsmtCond', 'BsmtQual', 'ExterCond', 'ExterQual', 'FireplaceQu', 'GarageCond', 'GarageQual', 'HeatingQC','KitchenQual', 'PoolQC']\n",
    "for col in cols:\n",
    "    n_col = 'n' + col\n",
    "    df[n_col] = order_coding(df[col])\n",
    "\n",
    "del col,order_coding,NumtoStr,str_cols,cols\n"
   ]
  },
  {
   "cell_type": "code",
   "execution_count": 13,
   "metadata": {},
   "outputs": [],
   "source": [
    "#对其他有意义的标签编码（建筑等级‘MSSubClass’，主要交通的便利程度‘Condition’）\n",
    "# 建筑等级\n",
    "df['nMSSubClass'] = df.MSSubClass.map({'180': 1,\n",
    "                                       '30': 2, '45': 2,\n",
    "                                       '190': 3, '50': 3, '90': 3,\n",
    "                                       '85': 4, '40': 4, '160': 4,\n",
    "                                       '70': 5, '20': 5, '75': 5, '80': 5, '150': 5,\n",
    "                                       '120': 6, '60': 6})\n",
    "# 主干道便利程度\n",
    "df['nCondition1'] = df.Condition1.map({'Artery': 1,\n",
    "                                       'Feedr': 2, 'RRAe': 2,\n",
    "                                        'Norm': 3, 'RRAn': 3,\n",
    "                                       'PosN': 4, 'RRNe': 4,\n",
    "                                       'PosA': 5, 'RRNn': 5})\n"
   ]
  },
  {
   "cell_type": "code",
   "execution_count": 14,
   "metadata": {},
   "outputs": [
    {
     "data": {
      "text/plain": [
       "(2915, 91)"
      ]
     },
     "execution_count": 14,
     "metadata": {},
     "output_type": "execute_result"
    }
   ],
   "source": [
    "df.shape"
   ]
  },
  {
   "cell_type": "markdown",
   "metadata": {},
   "source": [
    "## 2.2特征重要程度"
   ]
  },
  {
   "cell_type": "markdown",
   "metadata": {},
   "source": [
    "先对数据进行标准化处理，然后将字符串特征列的内容提出来作为新特征"
   ]
  },
  {
   "cell_type": "markdown",
   "metadata": {},
   "source": [
    "这个过程使将特征总数变成了380个"
   ]
  },
  {
   "cell_type": "code",
   "execution_count": 15,
   "metadata": {},
   "outputs": [],
   "source": [
    "# 当skew(偏度）大于1时，转换为对数，使之尽量符合正态分布\n",
    "df2 = df.copy()\n",
    "df2_numeric = df2.select_dtypes(exclude=['object'])\n",
    "skewness = df2_numeric.apply(lambda x: skew(x.dropna()))\n",
    "skewness_features = skewness[abs(skewness) > 1].index\n",
    "df2[skewness_features] = np.log1p(df2[skewness_features])\n",
    "#另外一种形式数据转换，将字符串特征列中的内容分别提出来作为新的特征出现，这样就省去了将字符串内容转化为数值特征内容的步骤了。\n",
    "df2 = pd.get_dummies(df2)\n",
    "# 在过程中可能会产生极大或极小值，使用中位数填充\n",
    "cols = df2.columns.values.tolist()\n",
    "for col in cols:\n",
    "    df2[col].values[np.isinf(df2[col].values)] = df2[col].median()\n",
    "del cols, col"
   ]
  },
  {
   "cell_type": "code",
   "execution_count": 16,
   "metadata": {},
   "outputs": [
    {
     "data": {
      "text/plain": [
       "(2915, 380)"
      ]
     },
     "execution_count": 16,
     "metadata": {},
     "output_type": "execute_result"
    }
   ],
   "source": [
    "df2.shape"
   ]
  },
  {
   "cell_type": "markdown",
   "metadata": {},
   "source": [
    "再使用lasso算法对数据有关价格的影响进行排序"
   ]
  },
  {
   "cell_type": "code",
   "execution_count": 17,
   "metadata": {},
   "outputs": [
    {
     "data": {
      "image/png": "[encoded data removed]",
      "text/plain": [
       "<Figure size 1080x1800 with 1 Axes>"
      ]
     },
     "metadata": {
      "needs_background": "light"
     },
     "output_type": "display_data"
    }
   ],
   "source": [
    "# 用lasso算法分类出相关性强的特征，进行组合\n",
    "Scaler = RobustScaler()\n",
    "X2 = df2[:train_data.shape[0]]       #1456*381\n",
    "X2_test = df2[train_data.shape[0]:]  #1463*381\n",
    "X2_scaled = Scaler.fit_transform(X2) \n",
    "y2_price = train_data['SalePrice']\n",
    "\n",
    "lasso = Lasso(alpha=0.001)\n",
    "lasso.fit(X2_scaled, y2_price)\n",
    "IM_lasso = pd.DataFrame({'Feature Importance': lasso.coef_}, index=df2.columns)\n",
    "#可视化\n",
    "IM_lasso[IM_lasso['Feature Importance'] != 0].sort_values('Feature Importance').plot(kind='barh', figsize=(15, 25),color='r')\n",
    "plt.show()"
   ]
  },
  {
   "cell_type": "markdown",
   "metadata": {},
   "source": [
    "## 2.3特征组合"
   ]
  },
  {
   "cell_type": "markdown",
   "metadata": {},
   "source": [
    "为了更好地预测出价格，仍需要更多的特征对住宅进行描述。"
   ]
  },
  {
   "cell_type": "markdown",
   "metadata": {},
   "source": [
    "这一步使总特征数量变成了403个"
   ]
  },
  {
   "cell_type": "code",
   "execution_count": 18,
   "metadata": {},
   "outputs": [],
   "source": [
    "#为了更好地预测出价格，仍需要更多的特征对住宅进行描述\n",
    "df['HasWoodDeck'] = (df['WoodDeckSF'] == 0) * 1\n",
    "df['HasOpenPorch'] = (df['OpenPorchSF'] == 0) * 1\n",
    "df['HasEnclosedPorch'] = (df['EnclosedPorch'] == 0) * 1\n",
    "df['Has3SsnPorch'] = (df['3SsnPorch'] == 0) * 1\n",
    "df['HasScreenPorch'] = (df['ScreenPorch'] == 0) * 1\n",
    "df['Haspool'] = df['PoolArea'].apply(lambda x: 1 if x > 0 else 0)\n",
    "df['Has2ndfloor'] = df['2ndFlrSF'].apply(lambda x: 1 if x > 0 else 0)\n",
    "df['Hasgarage'] = df['GarageArea'].apply(lambda x: 1 if x > 0 else 0)\n",
    "df['Hasbsmt'] = df['TotalBsmtSF'].apply(lambda x: 1 if x > 0 else 0)\n",
    "df['Hasfireplace'] = df['Fireplaces'].apply(lambda x: 1 if x > 0 else 0)\n",
    "\n",
    "df['TotalHouseArea'] = df['TotalBsmtSF'] + df['1stFlrSF'] + df['2ndFlrSF']  \n",
    "df['TotalArea'] = df['TotalBsmtSF'] + df['1stFlrSF'] + df['2ndFlrSF'] + df['GarageArea']\n",
    "df['TotalHouseArea_OverallQual'] = df['TotalHouseArea'] * df['OverallQual']\n",
    "df['GrLivArea_OverallQual'] = df['GrLivArea'] * df['OverallQual']\n",
    "\n",
    "df['BsmtFinSF1_OverallQual'] = df['BsmtFinSF1'] * df['OverallQual']\n",
    "\n",
    "df['LotArea_OverallQual'] = df['LotArea'] * df['OverallQual']\n",
    "df['TotalHouseArea_LotArea'] = df['TotalHouseArea'] + df['LotArea']\n",
    "df['nCondition1_TotalHouseArea'] = df['nCondition1'] * df['TotalHouseArea']\n",
    "df['nCondition1_OverallQual'] = df['nCondition1'] + df['OverallQual']\n",
    "\n",
    "df['Bsmt'] = df['BsmtFinSF1'] + df['BsmtFinSF2'] + df['BsmtUnfSF']\n",
    "df['Rooms'] = df['FullBath'] + df['TotRmsAbvGrd']\n",
    "df['PorchArea'] = df['OpenPorchSF'] + df['EnclosedPorch'] + df['3SsnPorch'] + df['ScreenPorch']\n",
    "df['TotalPlace'] = df['TotalBsmtSF'] + df['1stFlrSF'] + df['2ndFlrSF'] + df['GarageArea'] + df['OpenPorchSF'] + df['EnclosedPorch'] + df['3SsnPorch'] + df['ScreenPorch']\n"
   ]
  },
  {
   "cell_type": "code",
   "execution_count": 19,
   "metadata": {},
   "outputs": [],
   "source": [
    "df_numeric = df.select_dtypes(exclude=['object'])\n",
    "skewness = df_numeric.apply(lambda x: skew(x.dropna()))\n",
    "skewness_features = skewness[abs(skewness) > 1].index\n",
    "df[skewness_features] = np.log1p(df[skewness_features])\n",
    "df = pd.get_dummies(df)\n",
    "# 在过程中可能会产生极大或极小值，使用中位数填充\n",
    "cols = df.columns.values.tolist()\n",
    "for col in cols:\n",
    "    df[col].values[np.isinf(df[col].values)] = df[col].median()\n",
    "\n",
    "df.shape\n",
    "del cols, col"
   ]
  },
  {
   "cell_type": "code",
   "execution_count": 20,
   "metadata": {},
   "outputs": [
    {
     "data": {
      "text/plain": [
       "(2915, 403)"
      ]
     },
     "execution_count": 20,
     "metadata": {},
     "output_type": "execute_result"
    }
   ],
   "source": [
    "df.shape"
   ]
  },
  {
   "cell_type": "code",
   "execution_count": 21,
   "metadata": {},
   "outputs": [],
   "source": [
    "df1 = df.copy()"
   ]
  },
  {
   "cell_type": "markdown",
   "metadata": {},
   "source": [
    "# 3、PCA降维"
   ]
  },
  {
   "cell_type": "code",
   "execution_count": 22,
   "metadata": {},
   "outputs": [
    {
     "data": {
      "text/plain": [
       "((1456, 320), (1459, 320))"
      ]
     },
     "execution_count": 22,
     "metadata": {},
     "output_type": "execute_result"
    }
   ],
   "source": [
    "#去相关性,和标准化\n",
    "from sklearn.decomposition import PCA, KernelPCA\n",
    "Scaler = RobustScaler()\n",
    "X = df1[:train_data.shape[0]]\n",
    "test_X = df1[train_data.shape[0]:]\n",
    "\n",
    "X_scaled = Scaler.fit(X).transform(X)\n",
    "y_price = train_data['SalePrice']\n",
    "test_X_scaled = Scaler.transform(test_X)\n",
    "\n",
    "pca = PCA(n_components=320)\n",
    "X_scaled = pca.fit_transform(X_scaled)\n",
    "test_X_scaled = pca.transform(test_X_scaled)\n",
    "X_scaled.shape, test_X_scaled.shape"
   ]
  },
  {
   "cell_type": "markdown",
   "metadata": {},
   "source": [
    "# 4、SVR"
   ]
  },
  {
   "cell_type": "markdown",
   "metadata": {},
   "source": [
    "svr重要参数：C：惩罚因子 C值大时对误差分类的惩罚增大（容易过拟合），C值小时对误差分类的惩罚减小；"
   ]
  },
  {
   "cell_type": "markdown",
   "metadata": {},
   "source": [
    "kernel：内核类型，’rbf’，’linear’，’poly’等"
   ]
  },
  {
   "cell_type": "markdown",
   "metadata": {},
   "source": [
    "gamma：’rbf’，’poly’和’sigmoid’的核系数且gamma的值必须大于0；随着gamma的增大，存在对于测试集分类效果差而对训练分类效果好的情况，并且容易泛化误差出现过拟合"
   ]
  },
  {
   "cell_type": "markdown",
   "metadata": {},
   "source": [
    "epsilon：它指定了epsilon-tube，其中训练损失函数中没有惩罚与在实际值的距离epsilon内预测的点"
   ]
  },
  {
   "cell_type": "code",
   "execution_count": 23,
   "metadata": {},
   "outputs": [],
   "source": [
    "# 导入算法库\n",
    "from sklearn.model_selection import cross_val_score, GridSearchCV, KFold\n",
    "from sklearn.model_selection import train_test_split\n",
    "from sklearn.svm import SVR, LinearSVR\n",
    "import matplotlib.pyplot as plt\n",
    "from time import time\n",
    "import datetime\n",
    "\n",
    "# 拆分数据\n",
    "train_X = X_scaled\n",
    "train_y = y_price\n",
    "test_x = test_X_scaled\n",
    "# 折叠数\n",
    "kf = KFold(n_splits=5, random_state=42, shuffle=True)"
   ]
  },
  {
   "cell_type": "markdown",
   "metadata": {},
   "source": [
    "### 4.1gridSearchCV网格搜索调参"
   ]
  },
  {
   "cell_type": "markdown",
   "metadata": {},
   "source": [
    "GridSearchCV：它存在的意义就是自动调参，只要把参数输进去，就能给出最优化的结果和参数。但是这个方法适合于小数据集（适合本次数据集1456）"
   ]
  },
  {
   "cell_type": "code",
   "execution_count": 24,
   "metadata": {},
   "outputs": [
    {
     "name": "stdout",
     "output_type": "stream",
     "text": [
      "最优参数 {'C': 14, 'epsilon': 0.01, 'gamma': 0.0004641588833612782, 'kernel': 'rbf'} 0.11017779312636669\n",
      "--------------------------------------------------------------------------------\n",
      "                                                params  mean_test_score  \\\n",
      "0    {'C': 5, 'epsilon': 0.0, 'gamma': 1e-10, 'kern...         0.397381   \n",
      "1    {'C': 5, 'epsilon': 0.0, 'gamma': 1.2915496650...         0.397266   \n",
      "2    {'C': 5, 'epsilon': 0.0, 'gamma': 1.6681005372...         0.395750   \n",
      "3    {'C': 5, 'epsilon': 0.0, 'gamma': 2.1544346900...         0.377438   \n",
      "4    {'C': 5, 'epsilon': 0.0, 'gamma': 2.7825594022...         0.209800   \n",
      "..                                                 ...              ...   \n",
      "995  {'C': 14, 'epsilon': 0.01, 'gamma': 3.59381366...         0.116935   \n",
      "996  {'C': 14, 'epsilon': 0.01, 'gamma': 0.00046415...         0.110178   \n",
      "997  {'C': 14, 'epsilon': 0.01, 'gamma': 0.00599484...         0.121219   \n",
      "998  {'C': 14, 'epsilon': 0.01, 'gamma': 0.07742636...         0.251245   \n",
      "999  {'C': 14, 'epsilon': 0.01, 'gamma': 1.0, 'kern...         0.396115   \n",
      "\n",
      "     std_test_score  \n",
      "0          0.013868  \n",
      "1          0.013863  \n",
      "2          0.013786  \n",
      "3          0.012683  \n",
      "4          0.005284  \n",
      "..              ...  \n",
      "995        0.002479  \n",
      "996        0.002153  \n",
      "997        0.002412  \n",
      "998        0.009840  \n",
      "999        0.014278  \n",
      "\n",
      "[1000 rows x 3 columns]\n"
     ]
    }
   ],
   "source": [
    "class grid():\n",
    "    def __init__(self, model):\n",
    "        self.model = model\n",
    "\n",
    "    def grid_get(self, X, y, param_grid):\n",
    "        grid_search = GridSearchCV(self.model, param_grid, cv=kf, scoring='neg_mean_squared_error',n_jobs=-1)\n",
    "        grid_search.fit(X, y)\n",
    "        print('最优参数',grid_search.best_params_, np.sqrt(-grid_search.best_score_))\n",
    "        print(\"--------------------------------------------------------------------------------\")\n",
    "        grid_search.cv_results_['mean_test_score'] = np.sqrt(-grid_search.cv_results_['mean_test_score'])\n",
    "        print(pd.DataFrame(grid_search.cv_results_)[['params', 'mean_test_score', 'std_test_score']])\n",
    "        return grid_search\n",
    "    \n",
    "svr = grid(SVR()).grid_get(train_X, train_y, {'C': range(5,15,1), \n",
    "                                                    'kernel': ['rbf'], \n",
    "                                                    'gamma': np.logspace(-10,0,10),\n",
    "                                                    'epsilon': np.linspace(0,0.01,10)})"
   ]
  },
  {
   "cell_type": "code",
   "execution_count": 28,
   "metadata": {},
   "outputs": [],
   "source": [
    "svr = SVR(gamma=0.0004641588833612782, kernel='rbf', C=14, epsilon=0.01)\n",
    "svr.fit(train_X, train_y)\n",
    "pred = np.exp(svr.predict(test_x))"
   ]
  },
  {
   "cell_type": "code",
   "execution_count": 29,
   "metadata": {},
   "outputs": [],
   "source": [
    "result = pd.DataFrame({'Id': test_data.Id,\n",
    "                       'SalePrice': pred})\n",
    "result.to_csv('smine.csv', index=False)"
   ]
  },
  {
   "cell_type": "code",
   "execution_count": 30,
   "metadata": {},
   "outputs": [
    {
     "data": {
      "text/html": [
       "<div>\n",
       "<style scoped>\n",
       "    .dataframe tbody tr th:only-of-type {\n",
       "        vertical-align: middle;\n",
       "    }\n",
       "\n",
       "    .dataframe tbody tr th {\n",
       "        vertical-align: top;\n",
       "    }\n",
       "\n",
       "    .dataframe thead th {\n",
       "        text-align: right;\n",
       "    }\n",
       "</style>\n",
       "<table border=\"1\" class=\"dataframe\">\n",
       "  <thead>\n",
       "    <tr style=\"text-align: right;\">\n",
       "      <th></th>\n",
       "      <th>Id</th>\n",
       "      <th>SalePrice</th>\n",
       "    </tr>\n",
       "  </thead>\n",
       "  <tbody>\n",
       "    <tr>\n",
       "      <th>0</th>\n",
       "      <td>1461</td>\n",
       "      <td>121016.897835</td>\n",
       "    </tr>\n",
       "    <tr>\n",
       "      <th>1</th>\n",
       "      <td>1462</td>\n",
       "      <td>165603.788424</td>\n",
       "    </tr>\n",
       "    <tr>\n",
       "      <th>2</th>\n",
       "      <td>1463</td>\n",
       "      <td>192141.171618</td>\n",
       "    </tr>\n",
       "    <tr>\n",
       "      <th>3</th>\n",
       "      <td>1464</td>\n",
       "      <td>200362.860200</td>\n",
       "    </tr>\n",
       "    <tr>\n",
       "      <th>4</th>\n",
       "      <td>1465</td>\n",
       "      <td>189416.319131</td>\n",
       "    </tr>\n",
       "    <tr>\n",
       "      <th>...</th>\n",
       "      <td>...</td>\n",
       "      <td>...</td>\n",
       "    </tr>\n",
       "    <tr>\n",
       "      <th>1454</th>\n",
       "      <td>2915</td>\n",
       "      <td>87497.059687</td>\n",
       "    </tr>\n",
       "    <tr>\n",
       "      <th>1455</th>\n",
       "      <td>2916</td>\n",
       "      <td>79877.591842</td>\n",
       "    </tr>\n",
       "    <tr>\n",
       "      <th>1456</th>\n",
       "      <td>2917</td>\n",
       "      <td>174767.713772</td>\n",
       "    </tr>\n",
       "    <tr>\n",
       "      <th>1457</th>\n",
       "      <td>2918</td>\n",
       "      <td>124209.379194</td>\n",
       "    </tr>\n",
       "    <tr>\n",
       "      <th>1458</th>\n",
       "      <td>2919</td>\n",
       "      <td>215497.003397</td>\n",
       "    </tr>\n",
       "  </tbody>\n",
       "</table>\n",
       "<p>1459 rows × 2 columns</p>\n",
       "</div>"
      ],
      "text/plain": [
       "        Id      SalePrice\n",
       "0     1461  121016.897835\n",
       "1     1462  165603.788424\n",
       "2     1463  192141.171618\n",
       "3     1464  200362.860200\n",
       "4     1465  189416.319131\n",
       "...    ...            ...\n",
       "1454  2915   87497.059687\n",
       "1455  2916   79877.591842\n",
       "1456  2917  174767.713772\n",
       "1457  2918  124209.379194\n",
       "1458  2919  215497.003397\n",
       "\n",
       "[1459 rows x 2 columns]"
      ]
     },
     "execution_count": 30,
     "metadata": {},
     "output_type": "execute_result"
    }
   ],
   "source": [
    "result"
   ]
  },
  {
   "cell_type": "code",
   "execution_count": null,
   "metadata": {},
   "outputs": [],
   "source": []
  }
 ],
 "metadata": {
  "kernelspec": {
   "display_name": "Python 3",
   "language": "python",
   "name": "python3"
  },
  "language_info": {
   "codemirror_mode": {
    "name": "ipython",
    "version": 3
   },
   "file_extension": ".py",
   "mimetype": "text/x-python",
   "name": "python",
   "nbconvert_exporter": "python",
   "pygments_lexer": "ipython3",
   "version": "3.7.4"
  }
 },
 "nbformat": 4,
 "nbformat_minor": 2
}
